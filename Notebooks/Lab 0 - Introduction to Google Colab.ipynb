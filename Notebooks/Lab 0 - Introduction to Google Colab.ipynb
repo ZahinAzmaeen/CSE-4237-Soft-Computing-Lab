{
 "cells": [
  {
   "cell_type": "markdown",
   "metadata": {
    "id": "sW4iSjLvlyAm"
   },
   "source": [
    "\n",
    "<div align=\"center\">\n",
    "<img src=\"https://drive.google.com/uc?id=1RS6yBXLpBkZRuUUhUbVdsi0cODUhRiKC\" width=\"400\">\n",
    "</div>\n",
    "\n",
    "## Introduction to Google Colab\n",
    "\n",
    "Colaboratory in short [Colab](https://colab.research.google.com/) is a Google’s free cloud service which will let you run your deep learning or machine learning models in cloud on your browser. You can get access to GPUs like **Tesla K80** and even a TPU, for free!\n",
    "\n",
    "If you still need a reason to work with GPUs, check out this [link](https://www.analyticsvidhya.com/blog/2017/05/gpus-necessary-for-deep-learning/). \n",
    "\n",
    "#### Creating New Colab Notebook\n",
    "\n",
    "*   Open your **Google Drive**\n",
    "*   Create a new notebook via `Right click -> More -> Colaboratory`\n",
    "\n",
    "#### Why We Use Google Colab?\n",
    "\n",
    "- It provides a  browser-based free Jupyter notebook environment.\n",
    "- It comes with pre-installed packages.\n",
    "- Users do not need to set up on servers or workstations.\n",
    "- It hosts entirely on Google Cloud.\n",
    "- It provides two hardware accelerators:\n",
    "  - **GPU** (Graphical Processing Unit).\n",
    "  - **TPU** (Tensor Processing Unit).\n",
    "- It gives you a decent **GPU/TPU** for free, which you can continuously run for **12 hours**. \n",
    "- Easy sharing among others. \n",
    "- It provides options to create a notebook as well as to upload and select from different sources such as:\n",
    "  - GitHub\n",
    "  - Google Drive\n",
    "  - Local computer\n",
    "- Notebooks save automatically on a user’s Google Drive.\n",
    "- It is completely free of cost and offers GPU and TPU power (unless you need more resources and decide to go pro with [Colab Pro](https://colab.research.google.com/signup) **[currently available in the US and Canada]**.\n",
    "\n",
    "\n",
    "#### GPU Setting\n",
    "\n",
    "```\n",
    "Edit -> Notebook settings -> select GPU/TPU as Hardware accelerator\n",
    "```\n",
    "\n",
    "\n",
    "\n",
    "\n",
    "\n",
    "\n"
   ]
  },
  {
   "cell_type": "markdown",
   "metadata": {
    "id": "Kxc4Kt_HZ5bX"
   },
   "source": [
    "**This is a test** "
   ]
  },
  {
   "cell_type": "markdown",
   "metadata": {
    "id": "J8C-gDdI7YOH"
   },
   "source": [
    "### Colab Runtimes\n",
    "\n",
    "Google Colab gives us three types of runtime for our notebooks:\n",
    "\n",
    "- CPUs,\n",
    "- GPUs, and\n",
    "- TPUs\n",
    "\n",
    "As I mentioned, Colab gives us **12 hours of continuous execution time**. After that, the whole virtual machine is cleared and we have to start again. **We can run multiple CPU, GPU, and TPU instances simultaneously, but our resources are shared between these instances.**\n",
    "\n",
    "<div align=\"center\">\n",
    "<img src=\"https://drive.google.com/uc?id=1TuHL18bKdUOy0QRkoeXVuzkxY1JoV2Tu\" width=\"700\">\n",
    "</div>"
   ]
  },
  {
   "cell_type": "markdown",
   "metadata": {
    "id": "NfF15YRsCpZG"
   },
   "source": [
    "#### Hello World Test"
   ]
  },
  {
   "cell_type": "code",
   "execution_count": null,
   "metadata": {
    "colab": {
     "base_uri": "https://localhost:8080/"
    },
    "executionInfo": {
     "elapsed": 1003,
     "status": "ok",
     "timestamp": 1609227503089,
     "user": {
      "displayName": "Mir Tafseer Nayeem",
      "photoUrl": "https://lh3.googleusercontent.com/a-/AOh14GhiM4cOpMNCedgjDWZ9oHIKufBTjojcruiTtinn=s64",
      "userId": "11387451028968277735"
     },
     "user_tz": -360
    },
    "id": "blAW9RNX4kqe",
    "outputId": "021e6d6c-bde0-423e-c31b-2b233b9ea6c0"
   },
   "outputs": [
    {
     "name": "stdout",
     "output_type": "stream",
     "text": [
      "Hello World!\n"
     ]
    }
   ],
   "source": [
    "x = \"Hello World!\"\n",
    "print (x)"
   ]
  },
  {
   "cell_type": "markdown",
   "metadata": {
    "id": "HEj84l5C5-nw"
   },
   "source": [
    "#### RAM Info\n"
   ]
  },
  {
   "cell_type": "code",
   "execution_count": null,
   "metadata": {
    "colab": {
     "base_uri": "https://localhost:8080/"
    },
    "executionInfo": {
     "elapsed": 1016,
     "status": "ok",
     "timestamp": 1609227507349,
     "user": {
      "displayName": "Mir Tafseer Nayeem",
      "photoUrl": "https://lh3.googleusercontent.com/a-/AOh14GhiM4cOpMNCedgjDWZ9oHIKufBTjojcruiTtinn=s64",
      "userId": "11387451028968277735"
     },
     "user_tz": -360
    },
    "id": "x7t2ssDUiDLH",
    "outputId": "ea441989-abac-4ef0-b931-57233fc8f462"
   },
   "outputs": [
    {
     "name": "stdout",
     "output_type": "stream",
     "text": [
      "MemTotal:       13333596 kB\n",
      "MemFree:        10739952 kB\n",
      "MemAvailable:   12510000 kB\n",
      "Buffers:           78316 kB\n",
      "Cached:          1835264 kB\n",
      "SwapCached:            0 kB\n",
      "Active:           633152 kB\n",
      "Inactive:        1678916 kB\n",
      "Active(anon):     361036 kB\n",
      "Inactive(anon):      348 kB\n",
      "Active(file):     272116 kB\n",
      "Inactive(file):  1678568 kB\n",
      "Unevictable:           0 kB\n",
      "Mlocked:               0 kB\n",
      "SwapTotal:             0 kB\n",
      "SwapFree:              0 kB\n",
      "Dirty:               348 kB\n",
      "Writeback:             0 kB\n",
      "AnonPages:        398476 kB\n",
      "Mapped:           208948 kB\n",
      "Shmem:               960 kB\n",
      "Slab:             161192 kB\n",
      "SReclaimable:     120380 kB\n",
      "SUnreclaim:        40812 kB\n",
      "KernelStack:        3840 kB\n",
      "PageTables:         5244 kB\n",
      "NFS_Unstable:          0 kB\n",
      "Bounce:                0 kB\n",
      "WritebackTmp:          0 kB\n",
      "CommitLimit:     6666796 kB\n",
      "Committed_AS:    2623004 kB\n",
      "VmallocTotal:   34359738367 kB\n",
      "VmallocUsed:           0 kB\n",
      "VmallocChunk:          0 kB\n",
      "Percpu:              952 kB\n",
      "AnonHugePages:         0 kB\n",
      "ShmemHugePages:        0 kB\n",
      "ShmemPmdMapped:        0 kB\n",
      "HugePages_Total:       0\n",
      "HugePages_Free:        0\n",
      "HugePages_Rsvd:        0\n",
      "HugePages_Surp:        0\n",
      "Hugepagesize:       2048 kB\n",
      "Hugetlb:               0 kB\n",
      "DirectMap4k:      111848 kB\n",
      "DirectMap2M:     4081664 kB\n",
      "DirectMap1G:    11534336 kB\n"
     ]
    }
   ],
   "source": [
    "!cat /proc/meminfo"
   ]
  },
  {
   "cell_type": "markdown",
   "metadata": {
    "id": "RBmaZvBt6DVg"
   },
   "source": [
    "### CPU Info"
   ]
  },
  {
   "cell_type": "code",
   "execution_count": null,
   "metadata": {
    "colab": {
     "base_uri": "https://localhost:8080/"
    },
    "executionInfo": {
     "elapsed": 984,
     "status": "ok",
     "timestamp": 1609227520400,
     "user": {
      "displayName": "Mir Tafseer Nayeem",
      "photoUrl": "https://lh3.googleusercontent.com/a-/AOh14GhiM4cOpMNCedgjDWZ9oHIKufBTjojcruiTtinn=s64",
      "userId": "11387451028968277735"
     },
     "user_tz": -360
    },
    "id": "q2F2rqlw6GlD",
    "outputId": "e0b18fc2-8a6d-43d4-db1d-7514e4ce8ca8"
   },
   "outputs": [
    {
     "name": "stdout",
     "output_type": "stream",
     "text": [
      "processor\t: 0\n",
      "vendor_id\t: GenuineIntel\n",
      "cpu family\t: 6\n",
      "model\t\t: 79\n",
      "model name\t: Intel(R) Xeon(R) CPU @ 2.20GHz\n",
      "stepping\t: 0\n",
      "microcode\t: 0x1\n",
      "cpu MHz\t\t: 2200.000\n",
      "cache size\t: 56320 KB\n",
      "physical id\t: 0\n",
      "siblings\t: 2\n",
      "core id\t\t: 0\n",
      "cpu cores\t: 1\n",
      "apicid\t\t: 0\n",
      "initial apicid\t: 0\n",
      "fpu\t\t: yes\n",
      "fpu_exception\t: yes\n",
      "cpuid level\t: 13\n",
      "wp\t\t: yes\n",
      "flags\t\t: fpu vme de pse tsc msr pae mce cx8 apic sep mtrr pge mca cmov pat pse36 clflush mmx fxsr sse sse2 ss ht syscall nx pdpe1gb rdtscp lm constant_tsc rep_good nopl xtopology nonstop_tsc cpuid tsc_known_freq pni pclmulqdq ssse3 fma cx16 pcid sse4_1 sse4_2 x2apic movbe popcnt aes xsave avx f16c rdrand hypervisor lahf_lm abm 3dnowprefetch invpcid_single ssbd ibrs ibpb stibp fsgsbase tsc_adjust bmi1 hle avx2 smep bmi2 erms invpcid rtm rdseed adx smap xsaveopt arat md_clear arch_capabilities\n",
      "bugs\t\t: cpu_meltdown spectre_v1 spectre_v2 spec_store_bypass l1tf mds swapgs taa\n",
      "bogomips\t: 4400.00\n",
      "clflush size\t: 64\n",
      "cache_alignment\t: 64\n",
      "address sizes\t: 46 bits physical, 48 bits virtual\n",
      "power management:\n",
      "\n",
      "processor\t: 1\n",
      "vendor_id\t: GenuineIntel\n",
      "cpu family\t: 6\n",
      "model\t\t: 79\n",
      "model name\t: Intel(R) Xeon(R) CPU @ 2.20GHz\n",
      "stepping\t: 0\n",
      "microcode\t: 0x1\n",
      "cpu MHz\t\t: 2200.000\n",
      "cache size\t: 56320 KB\n",
      "physical id\t: 0\n",
      "siblings\t: 2\n",
      "core id\t\t: 0\n",
      "cpu cores\t: 1\n",
      "apicid\t\t: 1\n",
      "initial apicid\t: 1\n",
      "fpu\t\t: yes\n",
      "fpu_exception\t: yes\n",
      "cpuid level\t: 13\n",
      "wp\t\t: yes\n",
      "flags\t\t: fpu vme de pse tsc msr pae mce cx8 apic sep mtrr pge mca cmov pat pse36 clflush mmx fxsr sse sse2 ss ht syscall nx pdpe1gb rdtscp lm constant_tsc rep_good nopl xtopology nonstop_tsc cpuid tsc_known_freq pni pclmulqdq ssse3 fma cx16 pcid sse4_1 sse4_2 x2apic movbe popcnt aes xsave avx f16c rdrand hypervisor lahf_lm abm 3dnowprefetch invpcid_single ssbd ibrs ibpb stibp fsgsbase tsc_adjust bmi1 hle avx2 smep bmi2 erms invpcid rtm rdseed adx smap xsaveopt arat md_clear arch_capabilities\n",
      "bugs\t\t: cpu_meltdown spectre_v1 spectre_v2 spec_store_bypass l1tf mds swapgs taa\n",
      "bogomips\t: 4400.00\n",
      "clflush size\t: 64\n",
      "cache_alignment\t: 64\n",
      "address sizes\t: 46 bits physical, 48 bits virtual\n",
      "power management:\n",
      "\n"
     ]
    }
   ],
   "source": [
    "!cat /proc/cpuinfo"
   ]
  },
  {
   "cell_type": "markdown",
   "metadata": {
    "id": "xbdVT6L6BZo8"
   },
   "source": [
    "## Writing Euations, Loading Images and Formatting Texts\n",
    "\n",
    "### 1 - sigmoid function, np.exp()\n",
    "\n",
    "Before using `np.exp()`, you will use `math.exp()` to implement the sigmoid function.\n",
    "\n",
    "$sigmoid(x) = \\frac{1}{1+e^{-x}}$ is sometimes also known as the **logistic function**. It is a **non-linear function** used not only in Machine Learning (Logistic Regression), but also in Deep Learning.\n",
    "\n",
    "<div align=\"center\">\n",
    "<img src=\"https://drive.google.com/uc?id=1mrPzWiY5DeLJlA2ySTzCOLmBgaIER7vf\" width=\"500\">\n",
    "</div>"
   ]
  },
  {
   "cell_type": "code",
   "execution_count": 9,
   "metadata": {
    "colab": {
     "base_uri": "https://localhost:8080/",
     "height": 265
    },
    "executionInfo": {
     "elapsed": 1725,
     "status": "ok",
     "timestamp": 1609227594298,
     "user": {
      "displayName": "Mir Tafseer Nayeem",
      "photoUrl": "https://lh3.googleusercontent.com/a-/AOh14GhiM4cOpMNCedgjDWZ9oHIKufBTjojcruiTtinn=s64",
      "userId": "11387451028968277735"
     },
     "user_tz": -360
    },
    "id": "Nle3140KsOU3",
    "outputId": "6d7eb40a-713f-49bd-9d19-acf8ca8c44de"
   },
   "outputs": [
    {
     "data": {
      "image/png": "[encoded data removed]",
      "text/plain": [
       "<Figure size 432x288 with 2 Axes>"
      ]
     },
     "metadata": {
      "needs_background": "light"
     },
     "output_type": "display_data"
    }
   ],
   "source": [
    "# The following code and map are used to graph a heat map.\n",
    "\n",
    "import matplotlib.pyplot as plt\n",
    "import numpy as np\n",
    "import seaborn as sns\n",
    "\n",
    "length = 10\n",
    "data = 5 + np.random.randn(length, length)\n",
    "data += np.arange(length)\n",
    "data += np.reshape(np.arange(length), (length, 1))\n",
    "sns.heatmap(data)\n",
    "\n",
    "plt.show()"
   ]
  },
  {
   "cell_type": "code",
   "execution_count": null,
   "metadata": {},
   "outputs": [],
   "source": []
  }
 ],
 "metadata": {
  "accelerator": "GPU",
  "colab": {
   "name": "Lab 0 - Introduction to Google Colab.ipynb",
   "provenance": [
    {
     "file_id": "1z8stmuSy2gqlI0HlcjQX8QZl4kgHdJ4n",
     "timestamp": 1609245395996
    },
    {
     "file_id": "1KI-kH8H8P-yjx_8ItIZH6bTPLJHgMNz6",
     "timestamp": 1609187474179
    }
   ]
  },
  "kernelspec": {
   "display_name": "Python 3",
   "language": "python",
   "name": "python3"
  },
  "language_info": {
   "codemirror_mode": {
    "name": "ipython",
    "version": 3
   },
   "file_extension": ".py",
   "mimetype": "text/x-python",
   "name": "python",
   "nbconvert_exporter": "python",
   "pygments_lexer": "ipython3",
   "version": "3.8.8"
  }
 },
 "nbformat": 4,
 "nbformat_minor": 1
}
