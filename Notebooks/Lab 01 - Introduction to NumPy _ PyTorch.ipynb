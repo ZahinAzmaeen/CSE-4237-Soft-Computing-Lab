{
 "cells": [
  {
   "cell_type": "markdown",
   "metadata": {
    "id": "hGlN8vYabdXk"
   },
   "source": [
    "<div align=\"center\">\n",
    "<img src=\"https://drive.google.com/uc?id=1JOzNG8Sf9rXQ_nHqlzOvzOnpr4iSIkmc\" width=\"250\">\n",
    "\n",
    "<img src=\"https://drive.google.com/uc?id=1SctzfeQJDdGN2eMRQhJEoQWWO9rovrWh\" width=\"300\">\n",
    "</div>\n"
   ]
  },
  {
   "cell_type": "markdown",
   "metadata": {
    "id": "aenrS3vJi33Z"
   },
   "source": [
    "## Numpy\n",
    "\n",
    "[Numpy](https://numpy.org/) is the core library for scientific computing in Python. It provides a high-performance multidimensional array object, and tools for working with these arrays. To use Numpy, we first need to import the numpy package as `import numpy as np`"
   ]
  },
  {
   "cell_type": "code",
   "execution_count": 2,
   "metadata": {
    "executionInfo": {
     "elapsed": 1569,
     "status": "ok",
     "timestamp": 1610003510576,
     "user": {
      "displayName": "Mir Tafseer Nayeem",
      "photoUrl": "https://lh3.googleusercontent.com/a-/AOh14GhiM4cOpMNCedgjDWZ9oHIKufBTjojcruiTtinn=s64",
      "userId": "11387451028968277735"
     },
     "user_tz": -360
    },
    "id": "E2ESAJrHWzzn"
   },
   "outputs": [],
   "source": [
    "import numpy as np"
   ]
  },
  {
   "cell_type": "markdown",
   "metadata": {
    "id": "2dVO07CgV_dh"
   },
   "source": [
    "### Arrays\n",
    "\n",
    "A numpy array is a grid of values, **all of the same type**, and is indexed by a tuple of nonnegative integers. **The number of dimensions is the rank of the array**; the shape of an array is a tuple of integers giving the size of the array along each dimension. We can initialize numpy arrays from nested Python lists, and access elements using square brackets:\n",
    "\n"
   ]
  },
  {
   "cell_type": "code",
   "execution_count": 3,
   "metadata": {
    "colab": {
     "base_uri": "https://localhost:8080/"
    },
    "executionInfo": {
     "elapsed": 4642,
     "status": "ok",
     "timestamp": 1610003513699,
     "user": {
      "displayName": "Mir Tafseer Nayeem",
      "photoUrl": "https://lh3.googleusercontent.com/a-/AOh14GhiM4cOpMNCedgjDWZ9oHIKufBTjojcruiTtinn=s64",
      "userId": "11387451028968277735"
     },
     "user_tz": -360
    },
    "id": "GYT8uNOuWvCL",
    "outputId": "8048916a-fd15-431f-adc5-e6e2ae50c45f"
   },
   "outputs": [
    {
     "name": "stdout",
     "output_type": "stream",
     "text": [
      "<class 'numpy.ndarray'> (3,) 1 2 3\n",
      "[5 2 3]\n"
     ]
    }
   ],
   "source": [
    "a = np.array([1, 2, 3])  # Create a rank 1 array\n",
    "print(type(a), a.shape, a[0], a[1], a[2])\n",
    "a[0] = 5                 # Change an element of the array\n",
    "print(a)"
   ]
  },
  {
   "cell_type": "code",
   "execution_count": 4,
   "metadata": {
    "colab": {
     "base_uri": "https://localhost:8080/"
    },
    "executionInfo": {
     "elapsed": 4615,
     "status": "ok",
     "timestamp": 1610003513700,
     "user": {
      "displayName": "Mir Tafseer Nayeem",
      "photoUrl": "https://lh3.googleusercontent.com/a-/AOh14GhiM4cOpMNCedgjDWZ9oHIKufBTjojcruiTtinn=s64",
      "userId": "11387451028968277735"
     },
     "user_tz": -360
    },
    "id": "qBrP3DTeXZDb",
    "outputId": "3661a98e-ea13-403b-c414-89e50d1785bb"
   },
   "outputs": [
    {
     "name": "stdout",
     "output_type": "stream",
     "text": [
      "[[1 2 3]\n",
      " [4 5 6]]\n"
     ]
    }
   ],
   "source": [
    "b = np.array([[1,2,3],[4,5,6]])   # Create a rank 2 array\n",
    "print(b)"
   ]
  },
  {
   "cell_type": "code",
   "execution_count": 5,
   "metadata": {
    "colab": {
     "base_uri": "https://localhost:8080/"
    },
    "executionInfo": {
     "elapsed": 4597,
     "status": "ok",
     "timestamp": 1610003513701,
     "user": {
      "displayName": "Mir Tafseer Nayeem",
      "photoUrl": "https://lh3.googleusercontent.com/a-/AOh14GhiM4cOpMNCedgjDWZ9oHIKufBTjojcruiTtinn=s64",
      "userId": "11387451028968277735"
     },
     "user_tz": -360
    },
    "id": "nAWJoutwXdOJ",
    "outputId": "101bb4c7-6615-47f3-abdb-bb92c4551828"
   },
   "outputs": [
    {
     "name": "stdout",
     "output_type": "stream",
     "text": [
      "(2, 3)\n",
      "1 2 4\n"
     ]
    }
   ],
   "source": [
    "print(b.shape)\n",
    "print(b[0, 0], b[0, 1], b[1, 0])"
   ]
  },
  {
   "cell_type": "markdown",
   "metadata": {
    "id": "GmUmAYPHXskp"
   },
   "source": [
    "Numpy also provides many functions to create arrays:"
   ]
  },
  {
   "cell_type": "code",
   "execution_count": 6,
   "metadata": {
    "colab": {
     "base_uri": "https://localhost:8080/"
    },
    "executionInfo": {
     "elapsed": 4577,
     "status": "ok",
     "timestamp": 1610003513702,
     "user": {
      "displayName": "Mir Tafseer Nayeem",
      "photoUrl": "https://lh3.googleusercontent.com/a-/AOh14GhiM4cOpMNCedgjDWZ9oHIKufBTjojcruiTtinn=s64",
      "userId": "11387451028968277735"
     },
     "user_tz": -360
    },
    "id": "3cflrO8SXvCb",
    "outputId": "cf8108be-2895-455d-c878-dc20e0435831"
   },
   "outputs": [
    {
     "name": "stdout",
     "output_type": "stream",
     "text": [
      "[[0. 0.]\n",
      " [0. 0.]]\n"
     ]
    }
   ],
   "source": [
    "a = np.zeros((2,2))  # Create an array of all zeros\n",
    "print(a)"
   ]
  },
  {
   "cell_type": "code",
   "execution_count": 7,
   "metadata": {
    "colab": {
     "base_uri": "https://localhost:8080/"
    },
    "executionInfo": {
     "elapsed": 4551,
     "status": "ok",
     "timestamp": 1610003513703,
     "user": {
      "displayName": "Mir Tafseer Nayeem",
      "photoUrl": "https://lh3.googleusercontent.com/a-/AOh14GhiM4cOpMNCedgjDWZ9oHIKufBTjojcruiTtinn=s64",
      "userId": "11387451028968277735"
     },
     "user_tz": -360
    },
    "id": "l7m1foQ0X3Do",
    "outputId": "6209dc41-c1a1-43c5-afc9-bef6efa6df18"
   },
   "outputs": [
    {
     "name": "stdout",
     "output_type": "stream",
     "text": [
      "[[1. 1.]]\n"
     ]
    }
   ],
   "source": [
    "b = np.ones((1,2))   # Create an array of all ones\n",
    "print(b)"
   ]
  },
  {
   "cell_type": "code",
   "execution_count": 8,
   "metadata": {
    "colab": {
     "base_uri": "https://localhost:8080/"
    },
    "executionInfo": {
     "elapsed": 4528,
     "status": "ok",
     "timestamp": 1610003513704,
     "user": {
      "displayName": "Mir Tafseer Nayeem",
      "photoUrl": "https://lh3.googleusercontent.com/a-/AOh14GhiM4cOpMNCedgjDWZ9oHIKufBTjojcruiTtinn=s64",
      "userId": "11387451028968277735"
     },
     "user_tz": -360
    },
    "id": "Qwjj7FZLX7LH",
    "outputId": "9d1bb46b-5bf6-453b-f5ef-494238285bea"
   },
   "outputs": [
    {
     "name": "stdout",
     "output_type": "stream",
     "text": [
      "[[7 7]\n",
      " [7 7]]\n"
     ]
    }
   ],
   "source": [
    "c = np.full((2,2), 7) # Create a constant array\n",
    "print(c)"
   ]
  },
  {
   "cell_type": "code",
   "execution_count": 43,
   "metadata": {
    "colab": {
     "base_uri": "https://localhost:8080/"
    },
    "executionInfo": {
     "elapsed": 974,
     "status": "ok",
     "timestamp": 1610003750041,
     "user": {
      "displayName": "Mir Tafseer Nayeem",
      "photoUrl": "https://lh3.googleusercontent.com/a-/AOh14GhiM4cOpMNCedgjDWZ9oHIKufBTjojcruiTtinn=s64",
      "userId": "11387451028968277735"
     },
     "user_tz": -360
    },
    "id": "2gFhPTu1X_Df",
    "outputId": "df26193f-d272-4167-dbbe-d70404a23d37"
   },
   "outputs": [
    {
     "name": "stdout",
     "output_type": "stream",
     "text": [
      "[[1. 0.]\n",
      " [0. 1.]]\n"
     ]
    }
   ],
   "source": [
    "d = np.eye(2)        # Create a 2x2 identity matrix\n",
    "print(d)"
   ]
  },
  {
   "cell_type": "code",
   "execution_count": 44,
   "metadata": {
    "colab": {
     "base_uri": "https://localhost:8080/"
    },
    "executionInfo": {
     "elapsed": 1016,
     "status": "ok",
     "timestamp": 1610003778378,
     "user": {
      "displayName": "Mir Tafseer Nayeem",
      "photoUrl": "https://lh3.googleusercontent.com/a-/AOh14GhiM4cOpMNCedgjDWZ9oHIKufBTjojcruiTtinn=s64",
      "userId": "11387451028968277735"
     },
     "user_tz": -360
    },
    "id": "yHV4M_ssYN1x",
    "outputId": "54bb070a-25f3-4be8-eefb-babf564b532c"
   },
   "outputs": [
    {
     "name": "stdout",
     "output_type": "stream",
     "text": [
      "[[0.02328039 0.12082563]\n",
      " [0.40931967 0.71505989]]\n"
     ]
    }
   ],
   "source": [
    "e = np.random.random((2,2)) # Create an array filled with random values\n",
    "print(e)"
   ]
  },
  {
   "cell_type": "markdown",
   "metadata": {
    "id": "OYzzDjtgaqYb"
   },
   "source": [
    "### Datatypes\n",
    "\n",
    "**Every numpy array is a grid of elements of the same type.** Numpy provides a large set of numeric datatypes that you can use to construct arrays. **Numpy tries to guess a datatype when you create an array**, but functions that construct arrays usually also include an optional argument to explicitly specify the datatype. Here is an example:\n",
    "\n",
    "You can read all about numpy datatypes in the [documentation](http://docs.scipy.org/doc/numpy/reference/arrays.dtypes.html)."
   ]
  },
  {
   "cell_type": "code",
   "execution_count": 45,
   "metadata": {
    "colab": {
     "base_uri": "https://localhost:8080/"
    },
    "executionInfo": {
     "elapsed": 1005,
     "status": "ok",
     "timestamp": 1610003974922,
     "user": {
      "displayName": "Mir Tafseer Nayeem",
      "photoUrl": "https://lh3.googleusercontent.com/a-/AOh14GhiM4cOpMNCedgjDWZ9oHIKufBTjojcruiTtinn=s64",
      "userId": "11387451028968277735"
     },
     "user_tz": -360
    },
    "id": "eAonmR48a4wa",
    "outputId": "a76767af-658f-4938-8d65-dc4c58c25050"
   },
   "outputs": [
    {
     "name": "stdout",
     "output_type": "stream",
     "text": [
      "int64 float64 int64\n"
     ]
    }
   ],
   "source": [
    "x = np.array([1, 2])  # Let numpy choose the datatype\n",
    "y = np.array([1.0, 2.0])  # Let numpy choose the datatype\n",
    "z = np.array([1, 2], dtype=np.int64)  # Force a particular datatype\n",
    "\n",
    "print(x.dtype, y.dtype, z.dtype)"
   ]
  },
  {
   "cell_type": "markdown",
   "metadata": {
    "id": "QZq7X-c-gFGZ"
   },
   "source": [
    "## Array math\n",
    "\n",
    "**Basic mathematical functions operate elementwise on arrays**, and are available both as operator overloads and as functions in the numpy module:"
   ]
  },
  {
   "cell_type": "code",
   "execution_count": 46,
   "metadata": {
    "colab": {
     "base_uri": "https://localhost:8080/"
    },
    "executionInfo": {
     "elapsed": 906,
     "status": "ok",
     "timestamp": 1610004936800,
     "user": {
      "displayName": "Mir Tafseer Nayeem",
      "photoUrl": "https://lh3.googleusercontent.com/a-/AOh14GhiM4cOpMNCedgjDWZ9oHIKufBTjojcruiTtinn=s64",
      "userId": "11387451028968277735"
     },
     "user_tz": -360
    },
    "id": "jGzEfTuFgUet",
    "outputId": "ae9a475d-9f1d-4a52-b0fd-7b5d2780163f"
   },
   "outputs": [
    {
     "name": "stdout",
     "output_type": "stream",
     "text": [
      "[[ 6.  8.]\n",
      " [10. 12.]]\n",
      "[[ 6.  8.]\n",
      " [10. 12.]]\n"
     ]
    }
   ],
   "source": [
    "x = np.array([[1,2],[3,4]], dtype=np.float64)\n",
    "y = np.array([[5,6],[7,8]], dtype=np.float64)\n",
    "\n",
    "# Elementwise sum; both produce the array\n",
    "print(x + y)\n",
    "print(np.add(x, y))"
   ]
  },
  {
   "cell_type": "code",
   "execution_count": 13,
   "metadata": {
    "colab": {
     "base_uri": "https://localhost:8080/"
    },
    "executionInfo": {
     "elapsed": 4412,
     "status": "ok",
     "timestamp": 1610003513716,
     "user": {
      "displayName": "Mir Tafseer Nayeem",
      "photoUrl": "https://lh3.googleusercontent.com/a-/AOh14GhiM4cOpMNCedgjDWZ9oHIKufBTjojcruiTtinn=s64",
      "userId": "11387451028968277735"
     },
     "user_tz": -360
    },
    "id": "3g5sXplxgZU0",
    "outputId": "ec758c37-6455-461f-e36e-eb42fd2c3cfd"
   },
   "outputs": [
    {
     "name": "stdout",
     "output_type": "stream",
     "text": [
      "[[-4. -4.]\n",
      " [-4. -4.]]\n",
      "[[-4. -4.]\n",
      " [-4. -4.]]\n"
     ]
    }
   ],
   "source": [
    "# Elementwise difference; both produce the array\n",
    "print(x - y)\n",
    "print(np.subtract(x, y))"
   ]
  },
  {
   "cell_type": "code",
   "execution_count": 14,
   "metadata": {
    "colab": {
     "base_uri": "https://localhost:8080/"
    },
    "executionInfo": {
     "elapsed": 4389,
     "status": "ok",
     "timestamp": 1610003513718,
     "user": {
      "displayName": "Mir Tafseer Nayeem",
      "photoUrl": "https://lh3.googleusercontent.com/a-/AOh14GhiM4cOpMNCedgjDWZ9oHIKufBTjojcruiTtinn=s64",
      "userId": "11387451028968277735"
     },
     "user_tz": -360
    },
    "id": "dpuzn0ivgcmQ",
    "outputId": "4d078629-9e7f-4ed9-d22b-705535feee02"
   },
   "outputs": [
    {
     "name": "stdout",
     "output_type": "stream",
     "text": [
      "[[ 5. 12.]\n",
      " [21. 32.]]\n",
      "[[ 5. 12.]\n",
      " [21. 32.]]\n"
     ]
    }
   ],
   "source": [
    "# Elementwise product; both produce the array\n",
    "print(x * y)\n",
    "print(np.multiply(x, y))"
   ]
  },
  {
   "cell_type": "code",
   "execution_count": 47,
   "metadata": {
    "colab": {
     "base_uri": "https://localhost:8080/"
    },
    "executionInfo": {
     "elapsed": 904,
     "status": "ok",
     "timestamp": 1610005039113,
     "user": {
      "displayName": "Mir Tafseer Nayeem",
      "photoUrl": "https://lh3.googleusercontent.com/a-/AOh14GhiM4cOpMNCedgjDWZ9oHIKufBTjojcruiTtinn=s64",
      "userId": "11387451028968277735"
     },
     "user_tz": -360
    },
    "id": "1FYntcSmgqZl",
    "outputId": "cc5d1345-f748-4a62-b563-6c607506b745"
   },
   "outputs": [
    {
     "name": "stdout",
     "output_type": "stream",
     "text": [
      "[[0.2        0.33333333]\n",
      " [0.42857143 0.5       ]]\n",
      "[[0.2        0.33333333]\n",
      " [0.42857143 0.5       ]]\n"
     ]
    }
   ],
   "source": [
    "# Elementwise division; both produce the array\n",
    "# [[ 0.2         0.33333333]\n",
    "#  [ 0.42857143  0.5       ]]\n",
    "print(x / y)\n",
    "print(np.divide(x, y))"
   ]
  },
  {
   "cell_type": "code",
   "execution_count": 48,
   "metadata": {
    "colab": {
     "base_uri": "https://localhost:8080/"
    },
    "executionInfo": {
     "elapsed": 879,
     "status": "ok",
     "timestamp": 1610005045310,
     "user": {
      "displayName": "Mir Tafseer Nayeem",
      "photoUrl": "https://lh3.googleusercontent.com/a-/AOh14GhiM4cOpMNCedgjDWZ9oHIKufBTjojcruiTtinn=s64",
      "userId": "11387451028968277735"
     },
     "user_tz": -360
    },
    "id": "kD63Mq5egsFl",
    "outputId": "916aad4a-9c7b-4f1b-d567-af3586a709cc"
   },
   "outputs": [
    {
     "name": "stdout",
     "output_type": "stream",
     "text": [
      "[[1.         1.41421356]\n",
      " [1.73205081 2.        ]]\n"
     ]
    }
   ],
   "source": [
    "# Elementwise square root; produces the array\n",
    "# [[ 1.          1.41421356]\n",
    "#  [ 1.73205081  2.        ]]\n",
    "print(np.sqrt(x))"
   ]
  },
  {
   "cell_type": "markdown",
   "metadata": {
    "id": "t9qM2375hZWF"
   },
   "source": [
    " ## **Important Note**\n",
    " \n",
    " `*` is elementwise multiplication, not matrix multiplication. **We instead use the dot function to compute inner products of vectors, to multiply a vector by a matrix, and to multiply matrices.** dot is available both as a function in the numpy module and as an instance method of array objects:"
   ]
  },
  {
   "cell_type": "code",
   "execution_count": 49,
   "metadata": {
    "colab": {
     "base_uri": "https://localhost:8080/"
    },
    "executionInfo": {
     "elapsed": 960,
     "status": "ok",
     "timestamp": 1610005134087,
     "user": {
      "displayName": "Mir Tafseer Nayeem",
      "photoUrl": "https://lh3.googleusercontent.com/a-/AOh14GhiM4cOpMNCedgjDWZ9oHIKufBTjojcruiTtinn=s64",
      "userId": "11387451028968277735"
     },
     "user_tz": -360
    },
    "id": "XWuVUgTVh2EZ",
    "outputId": "71505c15-c6f4-4336-d6ac-646087c46cc5"
   },
   "outputs": [
    {
     "name": "stdout",
     "output_type": "stream",
     "text": [
      "219\n",
      "219\n"
     ]
    }
   ],
   "source": [
    "x = np.array([[1,2],[3,4]])\n",
    "y = np.array([[5,6],[7,8]])\n",
    "\n",
    "v = np.array([9,10])\n",
    "w = np.array([11, 12])\n",
    "\n",
    "# Inner product of vectors; both produce 219\n",
    "print(v.dot(w))\n",
    "print(np.dot(v, w))"
   ]
  },
  {
   "cell_type": "markdown",
   "metadata": {
    "id": "cG1R9GJ7h8aT"
   },
   "source": [
    "**You can also use the @ operator which is equivalent to numpy's dot operator.**"
   ]
  },
  {
   "cell_type": "code",
   "execution_count": 50,
   "metadata": {
    "colab": {
     "base_uri": "https://localhost:8080/"
    },
    "executionInfo": {
     "elapsed": 1122,
     "status": "ok",
     "timestamp": 1610005210663,
     "user": {
      "displayName": "Mir Tafseer Nayeem",
      "photoUrl": "https://lh3.googleusercontent.com/a-/AOh14GhiM4cOpMNCedgjDWZ9oHIKufBTjojcruiTtinn=s64",
      "userId": "11387451028968277735"
     },
     "user_tz": -360
    },
    "id": "Bn6E5QPvh6RZ",
    "outputId": "d8e4e4d0-9005-464f-c204-320a21050c96"
   },
   "outputs": [
    {
     "name": "stdout",
     "output_type": "stream",
     "text": [
      "219\n"
     ]
    }
   ],
   "source": [
    "print(v @ w)"
   ]
  },
  {
   "cell_type": "code",
   "execution_count": 51,
   "metadata": {
    "colab": {
     "base_uri": "https://localhost:8080/"
    },
    "executionInfo": {
     "elapsed": 1113,
     "status": "ok",
     "timestamp": 1610005329171,
     "user": {
      "displayName": "Mir Tafseer Nayeem",
      "photoUrl": "https://lh3.googleusercontent.com/a-/AOh14GhiM4cOpMNCedgjDWZ9oHIKufBTjojcruiTtinn=s64",
      "userId": "11387451028968277735"
     },
     "user_tz": -360
    },
    "id": "o6Ba9VrQiOny",
    "outputId": "4310bc4b-5598-4ff3-c819-f4fdffecb6b7"
   },
   "outputs": [
    {
     "name": "stdout",
     "output_type": "stream",
     "text": [
      "[29 67]\n",
      "[29 67]\n",
      "[29 67]\n"
     ]
    }
   ],
   "source": [
    "# Matrix / vector product; both produce the rank 1 array [29 67]\n",
    "print(x.dot(v))\n",
    "print(np.dot(x, v))\n",
    "print(x @ v)"
   ]
  },
  {
   "cell_type": "code",
   "execution_count": 52,
   "metadata": {
    "colab": {
     "base_uri": "https://localhost:8080/"
    },
    "executionInfo": {
     "elapsed": 648,
     "status": "ok",
     "timestamp": 1610005358279,
     "user": {
      "displayName": "Mir Tafseer Nayeem",
      "photoUrl": "https://lh3.googleusercontent.com/a-/AOh14GhiM4cOpMNCedgjDWZ9oHIKufBTjojcruiTtinn=s64",
      "userId": "11387451028968277735"
     },
     "user_tz": -360
    },
    "id": "jYzY3Wf2iP_h",
    "outputId": "ed9b56b8-9c07-4c81-b498-830f21e28a64"
   },
   "outputs": [
    {
     "name": "stdout",
     "output_type": "stream",
     "text": [
      "[[19 22]\n",
      " [43 50]]\n",
      "[[19 22]\n",
      " [43 50]]\n",
      "[[19 22]\n",
      " [43 50]]\n"
     ]
    }
   ],
   "source": [
    "# Matrix / matrix product; both produce the rank 2 array\n",
    "# [[19 22]\n",
    "#  [43 50]]\n",
    "print(x.dot(y))\n",
    "print(np.dot(x, y))\n",
    "print(x @ y)"
   ]
  },
  {
   "cell_type": "markdown",
   "metadata": {
    "id": "z9RshYY_inAo"
   },
   "source": [
    "Numpy provides many useful functions for performing computations on arrays; one of the most useful is `sum`:"
   ]
  },
  {
   "cell_type": "code",
   "execution_count": 53,
   "metadata": {
    "colab": {
     "base_uri": "https://localhost:8080/"
    },
    "executionInfo": {
     "elapsed": 1029,
     "status": "ok",
     "timestamp": 1610005428990,
     "user": {
      "displayName": "Mir Tafseer Nayeem",
      "photoUrl": "https://lh3.googleusercontent.com/a-/AOh14GhiM4cOpMNCedgjDWZ9oHIKufBTjojcruiTtinn=s64",
      "userId": "11387451028968277735"
     },
     "user_tz": -360
    },
    "id": "hLUS16L7inkd",
    "outputId": "dee9b999-44b7-4a59-e98d-f65a3c0c5883"
   },
   "outputs": [
    {
     "name": "stdout",
     "output_type": "stream",
     "text": [
      "10\n",
      "[4 6]\n",
      "[3 7]\n"
     ]
    }
   ],
   "source": [
    "x = np.array([[1,2],[3,4]])\n",
    "\n",
    "print(np.sum(x))  # Compute sum of all elements; prints \"10\"\n",
    "print(np.sum(x, axis=0))  # Compute sum of each column; prints \"[4 6]\"\n",
    "print(np.sum(x, axis=1))  # Compute sum of each row; prints \"[3 7]\""
   ]
  },
  {
   "cell_type": "markdown",
   "metadata": {
    "id": "1IvAY8C1i-8T"
   },
   "source": [
    "You can find the full list of mathematical functions provided by numpy in the [documentation](http://docs.scipy.org/doc/numpy/reference/routines.math.html).\n",
    "\n",
    "Apart from computing mathematical functions using arrays, we frequently need to reshape or otherwise manipulate data in arrays. The simplest example of this type of operation is transposing a matrix; to transpose a matrix, simply use the T attribute of an array object:"
   ]
  },
  {
   "cell_type": "code",
   "execution_count": 22,
   "metadata": {
    "colab": {
     "base_uri": "https://localhost:8080/"
    },
    "executionInfo": {
     "elapsed": 4243,
     "status": "ok",
     "timestamp": 1610003513732,
     "user": {
      "displayName": "Mir Tafseer Nayeem",
      "photoUrl": "https://lh3.googleusercontent.com/a-/AOh14GhiM4cOpMNCedgjDWZ9oHIKufBTjojcruiTtinn=s64",
      "userId": "11387451028968277735"
     },
     "user_tz": -360
    },
    "id": "MEyRJsC4jADJ",
    "outputId": "479c6d12-5523-4ee6-eaef-c5ef9a4446ac"
   },
   "outputs": [
    {
     "name": "stdout",
     "output_type": "stream",
     "text": [
      "[[1 2]\n",
      " [3 4]]\n",
      "transpose\n",
      " [[1 3]\n",
      " [2 4]]\n"
     ]
    }
   ],
   "source": [
    "print(x)\n",
    "print(\"transpose\\n\", x.T)"
   ]
  },
  {
   "cell_type": "code",
   "execution_count": 54,
   "metadata": {
    "colab": {
     "base_uri": "https://localhost:8080/"
    },
    "executionInfo": {
     "elapsed": 1018,
     "status": "ok",
     "timestamp": 1610005479572,
     "user": {
      "displayName": "Mir Tafseer Nayeem",
      "photoUrl": "https://lh3.googleusercontent.com/a-/AOh14GhiM4cOpMNCedgjDWZ9oHIKufBTjojcruiTtinn=s64",
      "userId": "11387451028968277735"
     },
     "user_tz": -360
    },
    "id": "FEHtzYLUjDmW",
    "outputId": "6d626eb8-b711-4f1d-b47e-1c344e918b47"
   },
   "outputs": [
    {
     "name": "stdout",
     "output_type": "stream",
     "text": [
      "[[1 2 3]]\n",
      "transpose\n",
      " [[1]\n",
      " [2]\n",
      " [3]]\n"
     ]
    }
   ],
   "source": [
    "v = np.array([[1,2,3]])\n",
    "print(v )\n",
    "print(\"transpose\\n\", v.T)"
   ]
  },
  {
   "cell_type": "code",
   "execution_count": 24,
   "metadata": {
    "colab": {
     "base_uri": "https://localhost:8080/"
    },
    "executionInfo": {
     "elapsed": 4203,
     "status": "ok",
     "timestamp": 1610003513734,
     "user": {
      "displayName": "Mir Tafseer Nayeem",
      "photoUrl": "https://lh3.googleusercontent.com/a-/AOh14GhiM4cOpMNCedgjDWZ9oHIKufBTjojcruiTtinn=s64",
      "userId": "11387451028968277735"
     },
     "user_tz": -360
    },
    "id": "RwbozEnjYrLK",
    "outputId": "87b0b43d-b71c-4ac7-aba6-91703acca6b1"
   },
   "outputs": [
    {
     "name": "stdout",
     "output_type": "stream",
     "text": [
      "[1 2 3]\n"
     ]
    }
   ],
   "source": [
    "import numpy as np\n",
    "\n",
    "# example of numpy array\n",
    "x = np.array([1, 2, 3])\n",
    "print(x)"
   ]
  },
  {
   "cell_type": "markdown",
   "metadata": {
    "id": "jFSr1X85jrmo"
   },
   "source": [
    "If $x$ is a vector, then a Python operation such as $s = x + 3$ or $s = \\frac{1}{x}$ will output s as a vector of the same size as x."
   ]
  },
  {
   "cell_type": "code",
   "execution_count": 25,
   "metadata": {
    "colab": {
     "base_uri": "https://localhost:8080/"
    },
    "executionInfo": {
     "elapsed": 4192,
     "status": "ok",
     "timestamp": 1610003513735,
     "user": {
      "displayName": "Mir Tafseer Nayeem",
      "photoUrl": "https://lh3.googleusercontent.com/a-/AOh14GhiM4cOpMNCedgjDWZ9oHIKufBTjojcruiTtinn=s64",
      "userId": "11387451028968277735"
     },
     "user_tz": -360
    },
    "id": "AYVoF2pJjv5F",
    "outputId": "960c048b-7392-4710-bd0a-67719f260365"
   },
   "outputs": [
    {
     "name": "stdout",
     "output_type": "stream",
     "text": [
      "[4 5 6]\n"
     ]
    }
   ],
   "source": [
    "# example of vector operation\n",
    "x = np.array([1, 2, 3])\n",
    "print (x + 3)"
   ]
  },
  {
   "cell_type": "markdown",
   "metadata": {
    "id": "ThCRXKYIjSEO"
   },
   "source": [
    "In fact, if $ x = (x_1, x_2, ..., x_n)$ is a row vector then $np.exp(x)$ will apply the exponential function to every element of x. The output will thus be: $np.exp(x) = (e^{x_1}, e^{x_2}, ..., e^{x_n})$"
   ]
  },
  {
   "cell_type": "code",
   "execution_count": 55,
   "metadata": {
    "colab": {
     "base_uri": "https://localhost:8080/"
    },
    "executionInfo": {
     "elapsed": 973,
     "status": "ok",
     "timestamp": 1610005669185,
     "user": {
      "displayName": "Mir Tafseer Nayeem",
      "photoUrl": "https://lh3.googleusercontent.com/a-/AOh14GhiM4cOpMNCedgjDWZ9oHIKufBTjojcruiTtinn=s64",
      "userId": "11387451028968277735"
     },
     "user_tz": -360
    },
    "id": "znx1N3p7jDc-",
    "outputId": "bd04156f-7f97-4dee-d5f0-b063a0992303"
   },
   "outputs": [
    {
     "name": "stdout",
     "output_type": "stream",
     "text": [
      "[ 2.71828183  7.3890561  20.08553692]\n"
     ]
    }
   ],
   "source": [
    "import numpy as np\n",
    "\n",
    "# example of np.exp\n",
    "x = np.array([1, 2, 3])\n",
    "print(np.exp(x)) # result is (exp(1), exp(2), exp(3))"
   ]
  },
  {
   "cell_type": "markdown",
   "metadata": {
    "id": "Dx5SeqsRj7xN"
   },
   "source": [
    "Any time you need more info on a numpy function, we encourage you to look at [the official documentation](https://docs.scipy.org/doc/numpy-1.10.1/reference/generated/numpy.exp.html). "
   ]
  },
  {
   "cell_type": "markdown",
   "metadata": {
    "id": "ReWtgqV--ct6"
   },
   "source": [
    "## What is Pytorch? \n",
    "\n",
    "[PyTorch](https://pytorch.org/) is a python package built by **Facebook AI Research (FAIR)** that provides two high-level features:\n",
    "- Tensor computation (like numpy) with strong GPU acceleration\n",
    "- Deep Neural Networks built on a tape-based autograd (*Automatic Gradient Calculation*) system\n",
    "\n",
    "## Why Pytorch? \n",
    "- **More Pythonic** \n",
    "    - Flexible\n",
    "    - Intuitive and cleaner code\n",
    "    - Easy to learn & debug\n",
    "    - Dynamic Computation Graph (*network behavior can be changed programmatically at runtime*)\n",
    "\n",
    "- **More Neural Networkic**\n",
    "    - Write code as the network works\n",
    "    - forward/backward\n",
    "\n"
   ]
  },
  {
   "cell_type": "markdown",
   "metadata": {
    "id": "o3Furpvn_pKX"
   },
   "source": [
    "## Checking PyTorch version"
   ]
  },
  {
   "cell_type": "code",
   "execution_count": 1,
   "metadata": {
    "colab": {
     "base_uri": "https://localhost:8080/"
    },
    "executionInfo": {
     "elapsed": 949,
     "status": "ok",
     "timestamp": 1610006049756,
     "user": {
      "displayName": "Mir Tafseer Nayeem",
      "photoUrl": "https://lh3.googleusercontent.com/a-/AOh14GhiM4cOpMNCedgjDWZ9oHIKufBTjojcruiTtinn=s64",
      "userId": "11387451028968277735"
     },
     "user_tz": -360
    },
    "id": "yjLC9B6h_sFi",
    "outputId": "fc27759a-6d8b-4104-a89f-6d98024ad4f1"
   },
   "outputs": [
    {
     "name": "stdout",
     "output_type": "stream",
     "text": [
      "1.10.2\n"
     ]
    }
   ],
   "source": [
    "import torch\n",
    "\n",
    "print(torch.__version__)"
   ]
  },
  {
   "cell_type": "markdown",
   "metadata": {
    "id": "pvGt0wQH_qQh"
   },
   "source": [
    "## Introduction to Tensors\n",
    "\n",
    "A **PyTorch Tensor** is basically the same as a numpy array: it does not know anything about deep learning or computational graphs or gradients, and is just a generic **n-dimensional array** to be used for arbitrary **numeric computation**.\n",
    "\n",
    "The biggest difference between a numpy array and a PyTorch Tensor is that a **PyTorch Tensor can run on either CPU or GPU**. To run operations on the GPU, **just cast the Tensor to a cuda datatype**.\n",
    "\n",
    "\n",
    "A scalar is **zero-order tensor** or rank zero tensor. A vector is a **one-dimensional** or first order tensor, and a matrix is a **two-dimensional** or second order tensor. \n",
    "\n",
    "\n",
    "\n",
    "<div align=\"center\">\n",
    "<img src=\"https://drive.google.com/uc?id=1pka-LVyrq_7r0sCm59cvOQofEYAcnO4r\" width=\"550\">\n",
    "</div>\n",
    "\n",
    "<div align=\"center\">\n",
    "<img src=\"https://drive.google.com/uc?id=1zHT5CGzIgpe1aLkdawrllTMn74nYVeAp\" width=\"550\">\n",
    "</div>\n",
    "\n"
   ]
  },
  {
   "cell_type": "markdown",
   "metadata": {
    "id": "BmPtzMoC_7er"
   },
   "source": [
    "A [torch.Tensor](https://pytorch.org/docs/stable/tensors.html) is a **multi-dimensional matrix** containing elements of a **single data type**.\n",
    "\n",
    "`torch.Tensor` is an alias for the default tensor type (`torch.FloatTensor`)."
   ]
  },
  {
   "cell_type": "code",
   "execution_count": 57,
   "metadata": {
    "colab": {
     "base_uri": "https://localhost:8080/"
    },
    "executionInfo": {
     "elapsed": 915,
     "status": "ok",
     "timestamp": 1610006527135,
     "user": {
      "displayName": "Mir Tafseer Nayeem",
      "photoUrl": "https://lh3.googleusercontent.com/a-/AOh14GhiM4cOpMNCedgjDWZ9oHIKufBTjojcruiTtinn=s64",
      "userId": "11387451028968277735"
     },
     "user_tz": -360
    },
    "id": "I_U-fg4I_-dx",
    "outputId": "8d3c58b7-9d19-46cc-bde5-83d8cfbf27bd"
   },
   "outputs": [
    {
     "data": {
      "text/plain": [
       "tensor([[ 1., -1.],\n",
       "        [ 1., -1.]])"
      ]
     },
     "execution_count": 57,
     "metadata": {
      "tags": []
     },
     "output_type": "execute_result"
    }
   ],
   "source": [
    "torch.tensor([[1., -1.], [1., -1.]])"
   ]
  },
  {
   "cell_type": "code",
   "execution_count": 59,
   "metadata": {
    "colab": {
     "base_uri": "https://localhost:8080/"
    },
    "executionInfo": {
     "elapsed": 911,
     "status": "ok",
     "timestamp": 1610006586372,
     "user": {
      "displayName": "Mir Tafseer Nayeem",
      "photoUrl": "https://lh3.googleusercontent.com/a-/AOh14GhiM4cOpMNCedgjDWZ9oHIKufBTjojcruiTtinn=s64",
      "userId": "11387451028968277735"
     },
     "user_tz": -360
    },
    "id": "_iBjui28ABKj",
    "outputId": "a80598da-add3-4b17-8dae-fd730380091e"
   },
   "outputs": [
    {
     "name": "stdout",
     "output_type": "stream",
     "text": [
      "tensor([[0.7878, 0.7632, 0.5334],\n",
      "        [0.3148, 0.8141, 0.5708],\n",
      "        [0.8645, 0.3849, 0.7457],\n",
      "        [0.5847, 0.7187, 0.6906],\n",
      "        [0.1597, 0.6442, 0.0510]])\n"
     ]
    }
   ],
   "source": [
    "x = torch.rand(5, 3)\n",
    "print(x)"
   ]
  },
  {
   "cell_type": "code",
   "execution_count": 30,
   "metadata": {
    "colab": {
     "base_uri": "https://localhost:8080/"
    },
    "executionInfo": {
     "elapsed": 5925,
     "status": "ok",
     "timestamp": 1610003515563,
     "user": {
      "displayName": "Mir Tafseer Nayeem",
      "photoUrl": "https://lh3.googleusercontent.com/a-/AOh14GhiM4cOpMNCedgjDWZ9oHIKufBTjojcruiTtinn=s64",
      "userId": "11387451028968277735"
     },
     "user_tz": -360
    },
    "id": "GVrMKE6hAI7n",
    "outputId": "c7e49481-5cd2-4822-925c-7fd22d117a95"
   },
   "outputs": [
    {
     "data": {
      "text/plain": [
       "tensor([[1, 2, 3],\n",
       "        [4, 5, 6]])"
      ]
     },
     "execution_count": 30,
     "metadata": {
      "tags": []
     },
     "output_type": "execute_result"
    }
   ],
   "source": [
    "# Converting numpy arrays to tensors\n",
    "import numpy as np\n",
    "torch.tensor(np.array([[1, 2, 3], [4, 5, 6]]))"
   ]
  },
  {
   "cell_type": "code",
   "execution_count": 60,
   "metadata": {
    "colab": {
     "base_uri": "https://localhost:8080/"
    },
    "executionInfo": {
     "elapsed": 916,
     "status": "ok",
     "timestamp": 1610006690838,
     "user": {
      "displayName": "Mir Tafseer Nayeem",
      "photoUrl": "https://lh3.googleusercontent.com/a-/AOh14GhiM4cOpMNCedgjDWZ9oHIKufBTjojcruiTtinn=s64",
      "userId": "11387451028968277735"
     },
     "user_tz": -360
    },
    "id": "EDGZEyz-B8gt",
    "outputId": "35024ec3-ede9-40eb-de29-5a2b47ba60ec"
   },
   "outputs": [
    {
     "name": "stdout",
     "output_type": "stream",
     "text": [
      "tensor([[1, 2, 3],\n",
      "        [4, 5, 6]])\n"
     ]
    }
   ],
   "source": [
    "# Converting numpy arrays to tensors\n",
    "np_values = np.array([[1, 2, 3], [4, 5, 6]])\n",
    "\n",
    "tensor_values = torch.from_numpy(np_values)\n",
    "\n",
    "print (tensor_values)"
   ]
  },
  {
   "cell_type": "code",
   "execution_count": 61,
   "metadata": {
    "colab": {
     "base_uri": "https://localhost:8080/"
    },
    "executionInfo": {
     "elapsed": 894,
     "status": "ok",
     "timestamp": 1610006727243,
     "user": {
      "displayName": "Mir Tafseer Nayeem",
      "photoUrl": "https://lh3.googleusercontent.com/a-/AOh14GhiM4cOpMNCedgjDWZ9oHIKufBTjojcruiTtinn=s64",
      "userId": "11387451028968277735"
     },
     "user_tz": -360
    },
    "id": "tZBsr0v9CApq",
    "outputId": "d6dcdc0d-75fc-4a42-a983-7b5e4594701d"
   },
   "outputs": [
    {
     "data": {
      "text/plain": [
       "tensor([[0, 0, 0, 0],\n",
       "        [0, 0, 0, 0]], dtype=torch.int32)"
      ]
     },
     "execution_count": 61,
     "metadata": {
      "tags": []
     },
     "output_type": "execute_result"
    }
   ],
   "source": [
    "# A tensor of specific data type can be constructed by passing a torch.dtype\n",
    "\n",
    "torch.zeros([2, 4], dtype=torch.int32)"
   ]
  },
  {
   "cell_type": "code",
   "execution_count": 62,
   "metadata": {
    "colab": {
     "base_uri": "https://localhost:8080/"
    },
    "executionInfo": {
     "elapsed": 913,
     "status": "ok",
     "timestamp": 1610006755861,
     "user": {
      "displayName": "Mir Tafseer Nayeem",
      "photoUrl": "https://lh3.googleusercontent.com/a-/AOh14GhiM4cOpMNCedgjDWZ9oHIKufBTjojcruiTtinn=s64",
      "userId": "11387451028968277735"
     },
     "user_tz": -360
    },
    "id": "t7XjsX6oCCcv",
    "outputId": "5c774da2-2e2a-4216-f842-2eb106e8c5a9"
   },
   "outputs": [
    {
     "name": "stdout",
     "output_type": "stream",
     "text": [
      "tensor(6)\n",
      "tensor([[1, 8, 3],\n",
      "        [4, 5, 6]])\n"
     ]
    }
   ],
   "source": [
    "# The contents of a tensor can be accessed and modified using Python’s indexing and slicing notation:\n",
    "x = torch.tensor([[1, 2, 3], [4, 5, 6]])\n",
    "print(x[1][2])\n",
    "\n",
    "# Modify a certain element\n",
    "x[0][1] = 8\n",
    "print(x)"
   ]
  },
  {
   "cell_type": "code",
   "execution_count": 63,
   "metadata": {
    "colab": {
     "base_uri": "https://localhost:8080/"
    },
    "executionInfo": {
     "elapsed": 875,
     "status": "ok",
     "timestamp": 1610006762428,
     "user": {
      "displayName": "Mir Tafseer Nayeem",
      "photoUrl": "https://lh3.googleusercontent.com/a-/AOh14GhiM4cOpMNCedgjDWZ9oHIKufBTjojcruiTtinn=s64",
      "userId": "11387451028968277735"
     },
     "user_tz": -360
    },
    "id": "ZDYYKeexCFPv",
    "outputId": "07c05ce4-6be1-4ed7-a6bf-7cae6dedac2d"
   },
   "outputs": [
    {
     "name": "stdout",
     "output_type": "stream",
     "text": [
      "tensor([[1]])\n",
      "1\n",
      "2.5\n"
     ]
    }
   ],
   "source": [
    "# Use torch.Tensor.item() to get a Python number from a tensor containing a single value\n",
    "\n",
    "x = torch.tensor([[1]])\n",
    "print (x)\n",
    "\n",
    "print(x.item())\n",
    "\n",
    "x = torch.tensor(2.5)\n",
    "\n",
    "print(x.item())"
   ]
  },
  {
   "cell_type": "code",
   "execution_count": 64,
   "metadata": {
    "colab": {
     "base_uri": "https://localhost:8080/"
    },
    "executionInfo": {
     "elapsed": 912,
     "status": "ok",
     "timestamp": 1610006859285,
     "user": {
      "displayName": "Mir Tafseer Nayeem",
      "photoUrl": "https://lh3.googleusercontent.com/a-/AOh14GhiM4cOpMNCedgjDWZ9oHIKufBTjojcruiTtinn=s64",
      "userId": "11387451028968277735"
     },
     "user_tz": -360
    },
    "id": "t9_oXP4YCJ7X",
    "outputId": "cc4d4d13-b0ed-45d5-b2ef-47413f934d9d"
   },
   "outputs": [
    {
     "name": "stdout",
     "output_type": "stream",
     "text": [
      "torch.Size([2, 3])\n"
     ]
    }
   ],
   "source": [
    "x = torch.tensor([[1, 2, 3], [4, 5, 6]])\n",
    "print(x.size())"
   ]
  },
  {
   "cell_type": "code",
   "execution_count": 65,
   "metadata": {
    "colab": {
     "base_uri": "https://localhost:8080/"
    },
    "executionInfo": {
     "elapsed": 1005,
     "status": "ok",
     "timestamp": 1610006868207,
     "user": {
      "displayName": "Mir Tafseer Nayeem",
      "photoUrl": "https://lh3.googleusercontent.com/a-/AOh14GhiM4cOpMNCedgjDWZ9oHIKufBTjojcruiTtinn=s64",
      "userId": "11387451028968277735"
     },
     "user_tz": -360
    },
    "id": "3yRIixjcCN09",
    "outputId": "9c7ab78d-71bb-4d99-a32f-b2fc97edc14b"
   },
   "outputs": [
    {
     "name": "stdout",
     "output_type": "stream",
     "text": [
      "tensor([[0.9885, 0.6527, 0.4791],\n",
      "        [0.5478, 0.9898, 0.3387],\n",
      "        [0.7152, 0.6006, 0.5892],\n",
      "        [0.2309, 0.0228, 0.5204],\n",
      "        [0.7644, 0.6659, 0.4507]])\n",
      "tensor([[0.6583, 0.9113, 0.5257],\n",
      "        [0.1855, 0.2396, 0.9312],\n",
      "        [0.4075, 0.2966, 0.8326],\n",
      "        [0.7614, 0.1222, 0.7190],\n",
      "        [0.2609, 0.6813, 0.6104]])\n",
      "tensor([[1.6467, 1.5640, 1.0048],\n",
      "        [0.7332, 1.2294, 1.2699],\n",
      "        [1.1228, 0.8972, 1.4218],\n",
      "        [0.9923, 0.1450, 1.2395],\n",
      "        [1.0253, 1.3472, 1.0611]])\n",
      "tensor([[ 0.3302, -0.2585, -0.0466],\n",
      "        [ 0.3623,  0.7502, -0.5925],\n",
      "        [ 0.3077,  0.3040, -0.2434],\n",
      "        [-0.5304, -0.0994, -0.1986],\n",
      "        [ 0.5035, -0.0153, -0.1597]])\n"
     ]
    }
   ],
   "source": [
    "# Tensor addition & subtraction\n",
    "x = torch.rand(5, 3)\n",
    "y = torch.rand(5, 3)\n",
    "\n",
    "print(x)\n",
    "print(y)\n",
    "\n",
    "print(x + y)\n",
    "print(x - y)"
   ]
  },
  {
   "cell_type": "code",
   "execution_count": 66,
   "metadata": {
    "colab": {
     "base_uri": "https://localhost:8080/"
    },
    "executionInfo": {
     "elapsed": 956,
     "status": "ok",
     "timestamp": 1610006882728,
     "user": {
      "displayName": "Mir Tafseer Nayeem",
      "photoUrl": "https://lh3.googleusercontent.com/a-/AOh14GhiM4cOpMNCedgjDWZ9oHIKufBTjojcruiTtinn=s64",
      "userId": "11387451028968277735"
     },
     "user_tz": -360
    },
    "id": "wd9CC6XzCPpg",
    "outputId": "060ef415-ed7d-4417-a86b-699ef494fcfa"
   },
   "outputs": [
    {
     "name": "stdout",
     "output_type": "stream",
     "text": [
      "tensor([[1.6467, 1.5640, 1.0048],\n",
      "        [0.7332, 1.2294, 1.2699],\n",
      "        [1.1228, 0.8972, 1.4218],\n",
      "        [0.9923, 0.1450, 1.2395],\n",
      "        [1.0253, 1.3472, 1.0611]])\n",
      "tensor([[ 0.3302, -0.2585, -0.0466],\n",
      "        [ 0.3623,  0.7502, -0.5925],\n",
      "        [ 0.3077,  0.3040, -0.2434],\n",
      "        [-0.5304, -0.0994, -0.1986],\n",
      "        [ 0.5035, -0.0153, -0.1597]])\n"
     ]
    }
   ],
   "source": [
    "# Syntax 2 for Tensor addition & subtraction in PyTorch\n",
    "print(torch.add(x, y))\n",
    "print(torch.sub(x, y))"
   ]
  },
  {
   "cell_type": "code",
   "execution_count": 38,
   "metadata": {
    "colab": {
     "base_uri": "https://localhost:8080/"
    },
    "executionInfo": {
     "elapsed": 5810,
     "status": "ok",
     "timestamp": 1610003515568,
     "user": {
      "displayName": "Mir Tafseer Nayeem",
      "photoUrl": "https://lh3.googleusercontent.com/a-/AOh14GhiM4cOpMNCedgjDWZ9oHIKufBTjojcruiTtinn=s64",
      "userId": "11387451028968277735"
     },
     "user_tz": -360
    },
    "id": "hAihCpo7CU0c",
    "outputId": "701afb53-f3a2-4334-f512-e3cb89c122e3"
   },
   "outputs": [
    {
     "name": "stdout",
     "output_type": "stream",
     "text": [
      "tensor([[-0.8031,  0.2446,  0.7940],\n",
      "        [-0.3707,  0.0465,  1.4219]])\n",
      "tensor([[ 0.3405, -0.5077,  0.0098],\n",
      "        [ 2.4161,  0.2791, -1.2381],\n",
      "        [ 0.3947,  0.1022, -0.7730]])\n",
      "tensor([[ 0.6309,  0.5572, -0.9245],\n",
      "        [ 0.5475,  0.3465, -1.1604]])\n",
      "tensor([[-0.8031, -0.3707],\n",
      "        [ 0.2446,  0.0465],\n",
      "        [ 0.7940,  1.4219]])\n"
     ]
    }
   ],
   "source": [
    "# Tensor Product & Transpose\n",
    "\n",
    "mat1 = torch.randn(2, 3)\n",
    "mat2 = torch.randn(3, 3)\n",
    "\n",
    "print(mat1)\n",
    "print(mat2)\n",
    "\n",
    "print(torch.mm(mat1, mat2))\n",
    "\n",
    "print(mat1.t())"
   ]
  },
  {
   "cell_type": "code",
   "execution_count": 67,
   "metadata": {
    "colab": {
     "base_uri": "https://localhost:8080/"
    },
    "executionInfo": {
     "elapsed": 2757,
     "status": "ok",
     "timestamp": 1610007399876,
     "user": {
      "displayName": "Mir Tafseer Nayeem",
      "photoUrl": "https://lh3.googleusercontent.com/a-/AOh14GhiM4cOpMNCedgjDWZ9oHIKufBTjojcruiTtinn=s64",
      "userId": "11387451028968277735"
     },
     "user_tz": -360
    },
    "id": "Mcze4CWRCYD0",
    "outputId": "8a7c4732-bffe-4732-b48c-8508ab8eba39"
   },
   "outputs": [
    {
     "data": {
      "text/plain": [
       "tensor([[ 1.,  4.],\n",
       "        [ 9., 16.]])"
      ]
     },
     "execution_count": 67,
     "metadata": {
      "tags": []
     },
     "output_type": "execute_result"
    }
   ],
   "source": [
    "# Elementwise multiplication\n",
    "t = torch.Tensor([[1, 2], [3, 4]])\n",
    "t.mul(t)"
   ]
  },
  {
   "cell_type": "code",
   "execution_count": 40,
   "metadata": {
    "colab": {
     "base_uri": "https://localhost:8080/"
    },
    "executionInfo": {
     "elapsed": 7089,
     "status": "ok",
     "timestamp": 1610003516880,
     "user": {
      "displayName": "Mir Tafseer Nayeem",
      "photoUrl": "https://lh3.googleusercontent.com/a-/AOh14GhiM4cOpMNCedgjDWZ9oHIKufBTjojcruiTtinn=s64",
      "userId": "11387451028968277735"
     },
     "user_tz": -360
    },
    "id": "57OLSgrXCafz",
    "outputId": "b13131ba-1b0f-44f9-f6ad-1745acb3a4dc"
   },
   "outputs": [
    {
     "name": "stdout",
     "output_type": "stream",
     "text": [
      "Tensor shape: torch.Size([5, 3])\n",
      "Number of dimensions: 2\n",
      "Tensor type: torch.FloatTensor\n"
     ]
    }
   ],
   "source": [
    "# Shape, dimensions, and datatype of a tensor object\n",
    "\n",
    "x = torch.rand(5, 3)\n",
    "\n",
    "print('Tensor shape:', x.shape)   # t.size() gives the same\n",
    "print('Number of dimensions:', x.dim())\n",
    "print('Tensor type:', x.type())   # there are other types"
   ]
  },
  {
   "cell_type": "code",
   "execution_count": 41,
   "metadata": {
    "colab": {
     "base_uri": "https://localhost:8080/"
    },
    "executionInfo": {
     "elapsed": 7077,
     "status": "ok",
     "timestamp": 1610003516881,
     "user": {
      "displayName": "Mir Tafseer Nayeem",
      "photoUrl": "https://lh3.googleusercontent.com/a-/AOh14GhiM4cOpMNCedgjDWZ9oHIKufBTjojcruiTtinn=s64",
      "userId": "11387451028968277735"
     },
     "user_tz": -360
    },
    "id": "8Ekj2MQpCeIK",
    "outputId": "be998b80-f0d4-4e1a-b37a-a2e42c31308f"
   },
   "outputs": [
    {
     "name": "stdout",
     "output_type": "stream",
     "text": [
      "tensor([3., 6., 9.])\n",
      "tensor([[1., 2., 3.],\n",
      "        [4., 5., 6.]])\n",
      "tensor([[9.]])\n"
     ]
    }
   ],
   "source": [
    "# Slicing\n",
    "t = torch.Tensor([[1, 2, 3], [4, 5, 6], [7, 8, 9]])\n",
    "\n",
    "# Every row, only the last column\n",
    "print(t[:, -1])\n",
    "\n",
    "# First 2 rows, all columns\n",
    "print(t[:2, :])\n",
    "\n",
    "# Lower right most corner\n",
    "print(t[-1:, -1:])"
   ]
  }
 ],
 "metadata": {
  "colab": {
   "authorship_tag": "ABX9TyOOA8xa0WycFCG6zhj/KVte",
   "collapsed_sections": [],
   "name": "Lab 01 - Introduction to NumPy & PyTorch.ipynb",
   "provenance": []
  },
  "kernelspec": {
   "display_name": "Python 3",
   "language": "python",
   "name": "python3"
  },
  "language_info": {
   "codemirror_mode": {
    "name": "ipython",
    "version": 3
   },
   "file_extension": ".py",
   "mimetype": "text/x-python",
   "name": "python",
   "nbconvert_exporter": "python",
   "pygments_lexer": "ipython3",
   "version": "3.8.8"
  }
 },
 "nbformat": 4,
 "nbformat_minor": 1
}
